{
 "cells": [
  {
   "cell_type": "code",
   "execution_count": null,
   "id": "3afd2686",
   "metadata": {},
   "outputs": [],
   "source": [
    "# importing libraries\n",
    "import numpy as np\n",
    "import pandas as pd\n",
    "import tensorflow as tf\n",
    "from tensorflow.keras.models import Sequential\n",
    "from tensorflow.keras.layers import LSTM, Dense\n",
    "from sklearn.preprocessing import MinMaxScaler\n",
    "from sklearn.metrics import mean_squared_error\n",
    "import matplotlib.pyplot as plt"
   ]
  },
  {
   "cell_type": "code",
   "execution_count": 14,
   "id": "9071f8df",
   "metadata": {},
   "outputs": [],
   "source": [
    "# ---------------- Load Data ----------------\n",
    "# Read the hourly mean data from CSV file\n",
    "df = pd.read_csv(\"hourly_mean.csv\")\n",
    "\n",
    "# Remove the 'Day' column and keep only the 24 hourly values for modeling\n",
    "data = df.iloc[:, 1:].values   # shape (D, 24)\n",
    "D = data.shape[0]\n",
    "\n",
    "# ---------------- Scaling ----------------\n",
    "# Normalize the data to [0, 1] range for neural network training\n",
    "scaler = MinMaxScaler()\n",
    "data_scaled = scaler.fit_transform(data)"
   ]
  },
  {
   "cell_type": "code",
   "execution_count": 15,
   "id": "e5788a89",
   "metadata": {},
   "outputs": [],
   "source": [
    "# ---------------- Function: Build sequences ----------------\n",
    "def create_sequences(data, lookback):\n",
    "    \"\"\"\n",
    "    Generates input/output sequences for time series modeling.\n",
    "\n",
    "    Parameters:\n",
    "        data (np.ndarray): Scaled input data of shape (num_days, num_features).\n",
    "        lookback (int): Number of previous days to use for each input sequence.\n",
    "\n",
    "    Returns:\n",
    "        X (np.ndarray): Input sequences of shape (num_samples, lookback, num_features).\n",
    "        y (np.ndarray): Output targets of shape (num_samples, num_features).\n",
    "    \"\"\"\n",
    "    X, y = [], []\n",
    "    for i in range(lookback, len(data)):\n",
    "        # Collect sequences of 'lookback' days as input\n",
    "        X.append(data[i - lookback:i])\n",
    "        # The target is the next day's data\n",
    "        y.append(data[i])\n",
    "    return np.array(X), np.array(y)\n",
    "\n",
    "# ---------------- Function: Build LSTM Model ----------------\n",
    "def build_model(lookback):\n",
    "    \"\"\"\n",
    "    Constructs and compiles an LSTM-based neural network for multivariate time series prediction.\n",
    "\n",
    "    Parameters:\n",
    "        lookback (int): Number of time steps in each input sequence.\n",
    "\n",
    "    Returns:\n",
    "        model (Sequential): Compiled Keras Sequential model.\n",
    "    \"\"\"\n",
    "    model = Sequential([\n",
    "        # LSTM layer with 64 units; expects input shape (lookback, 24 features)\n",
    "        LSTM(64, activation=\"tanh\", input_shape=(lookback, 24)),\n",
    "        # Output layer for 24 hourly predictions\n",
    "        Dense(24)\n",
    "    ])\n",
    "    # Compile the model with Adam optimizer and mean squared error loss\n",
    "    model.compile(optimizer=\"adam\", loss=\"mse\")\n",
    "    return model"
   ]
  },
  {
   "cell_type": "code",
   "execution_count": 16,
   "id": "69169a92",
   "metadata": {},
   "outputs": [
    {
     "name": "stdout",
     "output_type": "stream",
     "text": [
      "\n",
      "Training with lookback = 1 days\n"
     ]
    },
    {
     "name": "stderr",
     "output_type": "stream",
     "text": [
      "c:\\Users\\HP\\AppData\\Local\\Programs\\Python\\Python313\\Lib\\site-packages\\keras\\src\\layers\\rnn\\rnn.py:199: UserWarning: Do not pass an `input_shape`/`input_dim` argument to a layer. When using Sequential models, prefer using an `Input(shape)` object as the first layer in the model instead.\n",
      "  super().__init__(**kwargs)\n"
     ]
    },
    {
     "name": "stdout",
     "output_type": "stream",
     "text": [
      "Test RMSE: 22.14\n",
      "Test Accuracy: 81.30%\n",
      "\n",
      "Training with lookback = 2 days\n"
     ]
    },
    {
     "name": "stderr",
     "output_type": "stream",
     "text": [
      "c:\\Users\\HP\\AppData\\Local\\Programs\\Python\\Python313\\Lib\\site-packages\\keras\\src\\layers\\rnn\\rnn.py:199: UserWarning: Do not pass an `input_shape`/`input_dim` argument to a layer. When using Sequential models, prefer using an `Input(shape)` object as the first layer in the model instead.\n",
      "  super().__init__(**kwargs)\n"
     ]
    },
    {
     "name": "stdout",
     "output_type": "stream",
     "text": [
      "Test RMSE: 18.04\n",
      "Test Accuracy: 85.55%\n",
      "\n",
      "Training with lookback = 3 days\n"
     ]
    },
    {
     "name": "stderr",
     "output_type": "stream",
     "text": [
      "c:\\Users\\HP\\AppData\\Local\\Programs\\Python\\Python313\\Lib\\site-packages\\keras\\src\\layers\\rnn\\rnn.py:199: UserWarning: Do not pass an `input_shape`/`input_dim` argument to a layer. When using Sequential models, prefer using an `Input(shape)` object as the first layer in the model instead.\n",
      "  super().__init__(**kwargs)\n"
     ]
    },
    {
     "name": "stdout",
     "output_type": "stream",
     "text": [
      "Test RMSE: 18.07\n",
      "Test Accuracy: 85.41%\n",
      "\n",
      "Training with lookback = 4 days\n"
     ]
    },
    {
     "name": "stderr",
     "output_type": "stream",
     "text": [
      "c:\\Users\\HP\\AppData\\Local\\Programs\\Python\\Python313\\Lib\\site-packages\\keras\\src\\layers\\rnn\\rnn.py:199: UserWarning: Do not pass an `input_shape`/`input_dim` argument to a layer. When using Sequential models, prefer using an `Input(shape)` object as the first layer in the model instead.\n",
      "  super().__init__(**kwargs)\n"
     ]
    },
    {
     "name": "stdout",
     "output_type": "stream",
     "text": [
      "Test RMSE: 18.22\n",
      "Test Accuracy: 85.63%\n",
      "\n",
      "Training with lookback = 5 days\n"
     ]
    },
    {
     "name": "stderr",
     "output_type": "stream",
     "text": [
      "c:\\Users\\HP\\AppData\\Local\\Programs\\Python\\Python313\\Lib\\site-packages\\keras\\src\\layers\\rnn\\rnn.py:199: UserWarning: Do not pass an `input_shape`/`input_dim` argument to a layer. When using Sequential models, prefer using an `Input(shape)` object as the first layer in the model instead.\n",
      "  super().__init__(**kwargs)\n"
     ]
    },
    {
     "name": "stdout",
     "output_type": "stream",
     "text": [
      "Test RMSE: 16.11\n",
      "Test Accuracy: 86.93%\n",
      "\n",
      "Training with lookback = 6 days\n"
     ]
    },
    {
     "name": "stderr",
     "output_type": "stream",
     "text": [
      "c:\\Users\\HP\\AppData\\Local\\Programs\\Python\\Python313\\Lib\\site-packages\\keras\\src\\layers\\rnn\\rnn.py:199: UserWarning: Do not pass an `input_shape`/`input_dim` argument to a layer. When using Sequential models, prefer using an `Input(shape)` object as the first layer in the model instead.\n",
      "  super().__init__(**kwargs)\n"
     ]
    },
    {
     "name": "stdout",
     "output_type": "stream",
     "text": [
      "Test RMSE: 14.25\n",
      "Test Accuracy: 87.57%\n",
      "\n",
      "Training with lookback = 7 days\n"
     ]
    },
    {
     "name": "stderr",
     "output_type": "stream",
     "text": [
      "c:\\Users\\HP\\AppData\\Local\\Programs\\Python\\Python313\\Lib\\site-packages\\keras\\src\\layers\\rnn\\rnn.py:199: UserWarning: Do not pass an `input_shape`/`input_dim` argument to a layer. When using Sequential models, prefer using an `Input(shape)` object as the first layer in the model instead.\n",
      "  super().__init__(**kwargs)\n"
     ]
    },
    {
     "name": "stdout",
     "output_type": "stream",
     "text": [
      "Test RMSE: 15.36\n",
      "Test Accuracy: 87.44%\n",
      "\n",
      "Training with lookback = 8 days\n"
     ]
    },
    {
     "name": "stderr",
     "output_type": "stream",
     "text": [
      "c:\\Users\\HP\\AppData\\Local\\Programs\\Python\\Python313\\Lib\\site-packages\\keras\\src\\layers\\rnn\\rnn.py:199: UserWarning: Do not pass an `input_shape`/`input_dim` argument to a layer. When using Sequential models, prefer using an `Input(shape)` object as the first layer in the model instead.\n",
      "  super().__init__(**kwargs)\n"
     ]
    },
    {
     "name": "stdout",
     "output_type": "stream",
     "text": [
      "Test RMSE: 14.31\n",
      "Test Accuracy: 87.63%\n",
      "\n",
      "Training with lookback = 9 days\n"
     ]
    },
    {
     "name": "stderr",
     "output_type": "stream",
     "text": [
      "c:\\Users\\HP\\AppData\\Local\\Programs\\Python\\Python313\\Lib\\site-packages\\keras\\src\\layers\\rnn\\rnn.py:199: UserWarning: Do not pass an `input_shape`/`input_dim` argument to a layer. When using Sequential models, prefer using an `Input(shape)` object as the first layer in the model instead.\n",
      "  super().__init__(**kwargs)\n"
     ]
    },
    {
     "name": "stdout",
     "output_type": "stream",
     "text": [
      "Test RMSE: 14.21\n",
      "Test Accuracy: 87.92%\n",
      "\n",
      "Training with lookback = 10 days\n"
     ]
    },
    {
     "name": "stderr",
     "output_type": "stream",
     "text": [
      "c:\\Users\\HP\\AppData\\Local\\Programs\\Python\\Python313\\Lib\\site-packages\\keras\\src\\layers\\rnn\\rnn.py:199: UserWarning: Do not pass an `input_shape`/`input_dim` argument to a layer. When using Sequential models, prefer using an `Input(shape)` object as the first layer in the model instead.\n",
      "  super().__init__(**kwargs)\n"
     ]
    },
    {
     "name": "stdout",
     "output_type": "stream",
     "text": [
      "Test RMSE: 17.56\n",
      "Test Accuracy: 86.16%\n",
      "\n",
      "Training with lookback = 11 days\n"
     ]
    },
    {
     "name": "stderr",
     "output_type": "stream",
     "text": [
      "c:\\Users\\HP\\AppData\\Local\\Programs\\Python\\Python313\\Lib\\site-packages\\keras\\src\\layers\\rnn\\rnn.py:199: UserWarning: Do not pass an `input_shape`/`input_dim` argument to a layer. When using Sequential models, prefer using an `Input(shape)` object as the first layer in the model instead.\n",
      "  super().__init__(**kwargs)\n"
     ]
    },
    {
     "name": "stdout",
     "output_type": "stream",
     "text": [
      "Test RMSE: 15.37\n",
      "Test Accuracy: 87.55%\n",
      "\n",
      "Training with lookback = 12 days\n"
     ]
    },
    {
     "name": "stderr",
     "output_type": "stream",
     "text": [
      "c:\\Users\\HP\\AppData\\Local\\Programs\\Python\\Python313\\Lib\\site-packages\\keras\\src\\layers\\rnn\\rnn.py:199: UserWarning: Do not pass an `input_shape`/`input_dim` argument to a layer. When using Sequential models, prefer using an `Input(shape)` object as the first layer in the model instead.\n",
      "  super().__init__(**kwargs)\n"
     ]
    },
    {
     "name": "stdout",
     "output_type": "stream",
     "text": [
      "Test RMSE: 14.59\n",
      "Test Accuracy: 87.79%\n",
      "\n",
      "Training with lookback = 13 days\n"
     ]
    },
    {
     "name": "stderr",
     "output_type": "stream",
     "text": [
      "c:\\Users\\HP\\AppData\\Local\\Programs\\Python\\Python313\\Lib\\site-packages\\keras\\src\\layers\\rnn\\rnn.py:199: UserWarning: Do not pass an `input_shape`/`input_dim` argument to a layer. When using Sequential models, prefer using an `Input(shape)` object as the first layer in the model instead.\n",
      "  super().__init__(**kwargs)\n"
     ]
    },
    {
     "name": "stdout",
     "output_type": "stream",
     "text": [
      "Test RMSE: 16.94\n",
      "Test Accuracy: 86.68%\n",
      "\n",
      "Training with lookback = 14 days\n"
     ]
    },
    {
     "name": "stderr",
     "output_type": "stream",
     "text": [
      "c:\\Users\\HP\\AppData\\Local\\Programs\\Python\\Python313\\Lib\\site-packages\\keras\\src\\layers\\rnn\\rnn.py:199: UserWarning: Do not pass an `input_shape`/`input_dim` argument to a layer. When using Sequential models, prefer using an `Input(shape)` object as the first layer in the model instead.\n",
      "  super().__init__(**kwargs)\n"
     ]
    },
    {
     "name": "stdout",
     "output_type": "stream",
     "text": [
      "Test RMSE: 14.83\n",
      "Test Accuracy: 86.88%\n",
      "\n",
      "Training with lookback = 15 days\n"
     ]
    },
    {
     "name": "stderr",
     "output_type": "stream",
     "text": [
      "c:\\Users\\HP\\AppData\\Local\\Programs\\Python\\Python313\\Lib\\site-packages\\keras\\src\\layers\\rnn\\rnn.py:199: UserWarning: Do not pass an `input_shape`/`input_dim` argument to a layer. When using Sequential models, prefer using an `Input(shape)` object as the first layer in the model instead.\n",
      "  super().__init__(**kwargs)\n"
     ]
    },
    {
     "name": "stdout",
     "output_type": "stream",
     "text": [
      "Test RMSE: 16.09\n",
      "Test Accuracy: 86.83%\n",
      "\n",
      "Training with lookback = 16 days\n"
     ]
    },
    {
     "name": "stderr",
     "output_type": "stream",
     "text": [
      "c:\\Users\\HP\\AppData\\Local\\Programs\\Python\\Python313\\Lib\\site-packages\\keras\\src\\layers\\rnn\\rnn.py:199: UserWarning: Do not pass an `input_shape`/`input_dim` argument to a layer. When using Sequential models, prefer using an `Input(shape)` object as the first layer in the model instead.\n",
      "  super().__init__(**kwargs)\n"
     ]
    },
    {
     "name": "stdout",
     "output_type": "stream",
     "text": [
      "Test RMSE: 18.58\n",
      "Test Accuracy: 85.28%\n",
      "\n",
      "Training with lookback = 17 days\n"
     ]
    },
    {
     "name": "stderr",
     "output_type": "stream",
     "text": [
      "c:\\Users\\HP\\AppData\\Local\\Programs\\Python\\Python313\\Lib\\site-packages\\keras\\src\\layers\\rnn\\rnn.py:199: UserWarning: Do not pass an `input_shape`/`input_dim` argument to a layer. When using Sequential models, prefer using an `Input(shape)` object as the first layer in the model instead.\n",
      "  super().__init__(**kwargs)\n"
     ]
    },
    {
     "name": "stdout",
     "output_type": "stream",
     "text": [
      "Test RMSE: 13.85\n",
      "Test Accuracy: 87.93%\n",
      "\n",
      "Training with lookback = 18 days\n"
     ]
    },
    {
     "name": "stderr",
     "output_type": "stream",
     "text": [
      "c:\\Users\\HP\\AppData\\Local\\Programs\\Python\\Python313\\Lib\\site-packages\\keras\\src\\layers\\rnn\\rnn.py:199: UserWarning: Do not pass an `input_shape`/`input_dim` argument to a layer. When using Sequential models, prefer using an `Input(shape)` object as the first layer in the model instead.\n",
      "  super().__init__(**kwargs)\n"
     ]
    },
    {
     "name": "stdout",
     "output_type": "stream",
     "text": [
      "Test RMSE: 15.38\n",
      "Test Accuracy: 87.32%\n",
      "\n",
      "Training with lookback = 19 days\n"
     ]
    },
    {
     "name": "stderr",
     "output_type": "stream",
     "text": [
      "c:\\Users\\HP\\AppData\\Local\\Programs\\Python\\Python313\\Lib\\site-packages\\keras\\src\\layers\\rnn\\rnn.py:199: UserWarning: Do not pass an `input_shape`/`input_dim` argument to a layer. When using Sequential models, prefer using an `Input(shape)` object as the first layer in the model instead.\n",
      "  super().__init__(**kwargs)\n"
     ]
    },
    {
     "name": "stdout",
     "output_type": "stream",
     "text": [
      "Test RMSE: 14.52\n",
      "Test Accuracy: 87.59%\n",
      "\n",
      "Training with lookback = 20 days\n"
     ]
    },
    {
     "name": "stderr",
     "output_type": "stream",
     "text": [
      "c:\\Users\\HP\\AppData\\Local\\Programs\\Python\\Python313\\Lib\\site-packages\\keras\\src\\layers\\rnn\\rnn.py:199: UserWarning: Do not pass an `input_shape`/`input_dim` argument to a layer. When using Sequential models, prefer using an `Input(shape)` object as the first layer in the model instead.\n",
      "  super().__init__(**kwargs)\n"
     ]
    },
    {
     "name": "stdout",
     "output_type": "stream",
     "text": [
      "Test RMSE: 14.32\n",
      "Test Accuracy: 87.78%\n"
     ]
    }
   ],
   "source": [
    "# ---------------- Loop over lookbacks ----------------\n",
    "rmse_list = []\n",
    "acc_list = []\n",
    "lookbacks = range(1, 21)\n",
    "\n",
    "for lb in lookbacks:\n",
    "    print(f\"\\nTraining with lookback = {lb} days\")\n",
    "\n",
    "    # Generate input/output sequences for the current lookback window\n",
    "    X, y = create_sequences(data_scaled, lb)\n",
    "\n",
    "    # Split data into training and testing sets (70% train, 30% test)\n",
    "    split_idx = int(0.7 * len(X))\n",
    "    X_train, X_test = X[:split_idx], X[split_idx:]\n",
    "    y_train, y_test = y[:split_idx], y[split_idx:]\n",
    "\n",
    "    # Build and compile the LSTM model for the current lookback\n",
    "    model = build_model(lb)\n",
    "\n",
    "    # Train the model for a limited number of epochs to save time\n",
    "    model.fit(\n",
    "        X_train, y_train,\n",
    "        epochs=15,\n",
    "        batch_size=16,\n",
    "        verbose=0\n",
    "    )\n",
    "\n",
    "    # Predict on the test set\n",
    "    y_pred = model.predict(X_test, verbose=0)\n",
    "\n",
    "    # Inverse transform predictions and targets to original scale\n",
    "    y_test_inv = scaler.inverse_transform(y_test)\n",
    "    y_pred_inv = scaler.inverse_transform(y_pred)\n",
    "\n",
    "    # Flatten arrays for error calculation\n",
    "    y_true_flat = y_test_inv.flatten()\n",
    "    y_pred_flat = y_pred_inv.flatten()\n",
    "\n",
    "    # Calculate RMSE\n",
    "    mse = mean_squared_error(y_true_flat, y_pred_flat)\n",
    "    rmse = np.sqrt(mse)\n",
    "\n",
    "    # Calculate MAPE and derive accuracy\n",
    "    mape = np.mean(np.abs((y_true_flat - y_pred_flat) / y_true_flat)) * 100\n",
    "    accuracy = 100 - mape\n",
    "\n",
    "    print(f\"Test RMSE: {rmse:.2f}\")\n",
    "    print(f\"Test Accuracy: {accuracy:.2f}%\")\n",
    "\n",
    "    # Store results for later analysis and plotting\n",
    "    rmse_list.append(rmse)\n",
    "    acc_list.append(accuracy)"
   ]
  },
  {
   "cell_type": "code",
   "execution_count": 17,
   "id": "ec44b772",
   "metadata": {},
   "outputs": [
    {
     "data": {
      "image/png": "[encoded data removed]",
      "text/plain": [
       "<Figure size 1200x500 with 2 Axes>"
      ]
     },
     "metadata": {},
     "output_type": "display_data"
    }
   ],
   "source": [
    "# ---------------- Plot RMSE and Accuracy vs Lookback Window ----------------\n",
    "plt.figure(figsize=(12, 5))\n",
    "\n",
    "# Plot RMSE for each lookback window\n",
    "plt.subplot(1, 2, 1)\n",
    "plt.plot(lookbacks, rmse_list, marker='o', color='red')\n",
    "plt.xlabel(\"Lookback Window (days)\")\n",
    "plt.ylabel(\"RMSE\")\n",
    "plt.title(\"RMSE vs Lookback Window\")\n",
    "plt.grid(True)\n",
    "\n",
    "# Plot Accuracy for each lookback window\n",
    "plt.subplot(1, 2, 2)\n",
    "plt.plot(lookbacks, acc_list, marker='o', color='blue')\n",
    "plt.xlabel(\"Lookback Window (days)\")\n",
    "plt.ylabel(\"Accuracy (%)\")\n",
    "plt.title(\"Accuracy vs Lookback Window\")\n",
    "plt.grid(True)\n",
    "\n",
    "# Adjust layout and display the plots\n",
    "plt.tight_layout()\n",
    "plt.show()"
   ]
  }
 ],
 "metadata": {
  "kernelspec": {
   "display_name": "Python 3",
   "language": "python",
   "name": "python3"
  },
  "language_info": {
   "codemirror_mode": {
    "name": "ipython",
    "version": 3
   },
   "file_extension": ".py",
   "mimetype": "text/x-python",
   "name": "python",
   "nbconvert_exporter": "python",
   "pygments_lexer": "ipython3",
   "version": "3.13.7"
  }
 },
 "nbformat": 4,
 "nbformat_minor": 5
}
